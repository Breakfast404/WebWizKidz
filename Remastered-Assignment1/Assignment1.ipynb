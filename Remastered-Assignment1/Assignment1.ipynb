{
 "cells": [
  {
   "cell_type": "code",
   "execution_count": 573,
   "metadata": {
    "collapsed": true
   },
   "outputs": [],
   "source": [
    "import spacy"
   ]
  },
  {
   "cell_type": "code",
   "execution_count": 574,
   "metadata": {
    "collapsed": true
   },
   "outputs": [],
   "source": [
    "nlp = spacy.load(\"en\")"
   ]
  },
  {
   "cell_type": "code",
   "execution_count": 575,
   "metadata": {
    "collapsed": true
   },
   "outputs": [],
   "source": [
    "Persons = {}\n",
    "Pets = {}\n",
    "Trips = {}\n",
    "\n"
   ]
  },
  {
   "cell_type": "code",
   "execution_count": null,
   "metadata": {
    "collapsed": true
   },
   "outputs": [],
   "source": []
  },
  {
   "cell_type": "code",
   "execution_count": 576,
   "metadata": {
    "collapsed": true
   },
   "outputs": [],
   "source": [
    "class Person(object):\n",
    "    def __init__(self, name, likes=None, pet=None, travels=None):\n",
    "        self.type = 'person'\n",
    "        self.name = name\n",
    "        self.likes = [] if likes is None else likes\n",
    "        self.pet = pet if pet is None else pet\n",
    "        self.travels = [] if travels is None else travels\n",
    "        "
   ]
  },
  {
   "cell_type": "code",
   "execution_count": 577,
   "metadata": {
    "collapsed": true
   },
   "outputs": [],
   "source": [
    "class Pet(object):\n",
    "    def __init__(self, name=None, owner=None, likes = None, animal=None):\n",
    "        self.type = 'pet'\n",
    "        self.name = name if name is None else name\n",
    "        self.animal = animal #dog or cat\n",
    "        self.owner = owner if owner is None else owner\n",
    "        self.likes = [] if likes is None else likes"
   ]
  },
  {
   "cell_type": "code",
   "execution_count": 578,
   "metadata": {
    "collapsed": true
   },
   "outputs": [],
   "source": [
    "class Trip(object):\n",
    "    def __init__(self, name, place, date):\n",
    "        self.type = 'trip'\n",
    "        self.departs_on = date\n",
    "        self.place = place\n",
    "        self.taker = name"
   ]
  },
  {
   "cell_type": "code",
   "execution_count": 579,
   "metadata": {
    "collapsed": true
   },
   "outputs": [],
   "source": [
    "def process_data_from_input_file(file):\n",
    "    text = open(file, 'r')\n",
    "    cleanText = []\n",
    "    for line in text:\n",
    "        if not line[0].startswith(('$', '#','=')):\n",
    "            newItem = line.strip()\n",
    "            newItem = newItem.split(\". That's\")\n",
    "            newItem = newItem[0]\n",
    "            if newItem == '':\n",
    "                pass\n",
    "            else:\n",
    "                cleanText.append(newItem)\n",
    "    return cleanText"
   ]
  },
  {
   "cell_type": "code",
   "execution_count": 580,
   "metadata": {
    "collapsed": true
   },
   "outputs": [],
   "source": [
    "sentenceList = process_data_from_input_file(\"assignment_01.data\")\n"
   ]
  },
  {
   "cell_type": "code",
   "execution_count": 581,
   "metadata": {},
   "outputs": [
    {
     "data": {
      "text/plain": [
       "['Joe likes Mary.',\n",
       " 'Bob is friends with Mary.',\n",
       " 'Bob has a dog named Fido.',\n",
       " 'Mary has a dog.',\n",
       " \"Mary's dog's name is Rover.\",\n",
       " \"Bob doesn't like Joe.\",\n",
       " 'Joe is friends with Mary.',\n",
       " 'Joe has a cat.',\n",
       " \"Joe's cat's name is Mr. Binglesworth.\",\n",
       " 'Bob and Mary are taking a trip to France in June of this year.',\n",
       " 'Sally is flying to Japan next summer.',\n",
       " 'Sally and Mary are friends.',\n",
       " 'Sally likes Joe.',\n",
       " \"Joe doesn't really like Sally.\",\n",
       " 'Chris leaves for Peru on April 20th.',\n",
       " 'Chris has a cat named Whisker Biscuit',\n",
       " \"Don't let Chris forget to take his medicine tomorrow.\",\n",
       " 'Chris is friends with Bob, Joe, and Mary.',\n",
       " 'Chris likes coffee.',\n",
       " 'Whisker Biscuit likes Mr. Binglesworth.',\n",
       " 'Rover is friends with Fido.',\n",
       " 'Sally is going to Mexico in 2020.']"
      ]
     },
     "execution_count": 581,
     "metadata": {},
     "output_type": "execute_result"
    }
   ],
   "source": [
    "sentenceList"
   ]
  },
  {
   "cell_type": "code",
   "execution_count": 582,
   "metadata": {
    "collapsed": true
   },
   "outputs": [],
   "source": [
    "def parseSentence(sentence):\n",
    "    doc = nlp(sentence)\n",
    "    for token in doc:\n",
    "        wordDictionary.append( \n",
    "                           {\n",
    "                            \"word\": token.text,\n",
    "                            \"lemma\": token.lemma_,\n",
    "                            \"pos\": token.pos_,\n",
    "                            \"tag\": token.dep_,\n",
    "                           }\n",
    "        )\n",
    "         \n",
    "    \n",
    "    "
   ]
  },
  {
   "cell_type": "code",
   "execution_count": 583,
   "metadata": {
    "collapsed": true
   },
   "outputs": [],
   "source": [
    "def personExists(name):\n",
    "    for each in Persons.keys():\n",
    "        if each == name:\n",
    "            return True\n",
    "    return False\n",
    "    "
   ]
  },
  {
   "cell_type": "code",
   "execution_count": 584,
   "metadata": {
    "collapsed": true
   },
   "outputs": [],
   "source": [
    "def petExists(ownerName):\n",
    "    for each in Pets.keys():\n",
    "        if each == ownerName:\n",
    "            return True\n",
    "    return False\n",
    "        "
   ]
  },
  {
   "cell_type": "code",
   "execution_count": 585,
   "metadata": {
    "collapsed": true
   },
   "outputs": [],
   "source": [
    "def TripExists(name):\n",
    "    for each in Trips.keys():\n",
    "        if each == name:\n",
    "            return True\n",
    "    return False\n",
    "    "
   ]
  },
  {
   "cell_type": "code",
   "execution_count": 586,
   "metadata": {
    "collapsed": true
   },
   "outputs": [],
   "source": [
    "def findRootVerb():\n",
    "    for each in wordDictionary:\n",
    "        if each['tag'] == 'ROOT':\n",
    "            rootVerb = each['lemma']\n",
    "            return rootVerb    \n",
    "    "
   ]
  },
  {
   "cell_type": "code",
   "execution_count": 587,
   "metadata": {
    "collapsed": true
   },
   "outputs": [],
   "source": [
    "def sentenceMaker(wordDictionary):\n",
    "    finalString = ''\n",
    "    for each in wordDictionary:\n",
    "        finalString = finalString + each['lemma'] + \" \" \n",
    "    return finalString"
   ]
  },
  {
   "cell_type": "code",
   "execution_count": 588,
   "metadata": {
    "collapsed": true
   },
   "outputs": [],
   "source": [
    "def hasNegative():\n",
    "    for each in wordDictionary:\n",
    "        if each['tag'] == 'neg':\n",
    "            return True\n",
    "    return False"
   ]
  },
  {
   "cell_type": "code",
   "execution_count": 589,
   "metadata": {
    "collapsed": true
   },
   "outputs": [],
   "source": [
    "def getWordOfTag(tag):\n",
    "    objAtTag = []\n",
    "    for each in wordDictionary:\n",
    "        if each['tag'] == tag:\n",
    "            objAtTag.append(each['lemma'])\n",
    "    return objAtTag\n",
    "        \n",
    "    \n",
    "def getWordfromPos(pos):\n",
    "    objOfPos = []\n",
    "    for each in wordDictionary:\n",
    "        if each['pos'] == pos:\n",
    "            objOfPos.append(each['lemma'])\n",
    "    return objOfPos"
   ]
  },
  {
   "cell_type": "code",
   "execution_count": 590,
   "metadata": {
    "collapsed": true
   },
   "outputs": [],
   "source": [
    "def masterLearningFunc(sentence):\n",
    "    global wordDictionary\n",
    "    wordDictionary = []\n",
    "    parseSentence(sentence)\n",
    "    rootVerb = findRootVerb()\n",
    "    sentence = sentenceMaker(wordDictionary)\n",
    "    return {'rootVerb': rootVerb, 'sentence': sentence }"
   ]
  },
  {
   "cell_type": "code",
   "execution_count": 591,
   "metadata": {
    "collapsed": true
   },
   "outputs": [],
   "source": [
    "def getLocation():\n",
    "    for each in wordDictionary:\n",
    "        if (each['pos'] == 'PROPN') and (each['tag'] == 'pobj'):\n",
    "            return each['lemma']\n",
    "    "
   ]
  },
  {
   "cell_type": "code",
   "execution_count": 592,
   "metadata": {},
   "outputs": [],
   "source": [
    "def getInfo(package):\n",
    "    \n",
    "    if package['rootVerb'] == 'like': \n",
    "#ROOT: like\n",
    "        \n",
    "        if \"whisker biscuit\" in package['sentence']:\n",
    "            Pets['chris'].likes.append(\"mr. binglesworth\") #edge case, WB is already defined\n",
    "        else:\n",
    "            if hasNegative():\n",
    "                pass #ignore negatives \n",
    "            else: \n",
    "                #add dobj to first PROPN's like list\n",
    "                propNoun = getWordfromPos(\"PROPN\")\n",
    "                dobjList = getWordOfTag(\"dobj\")\n",
    "                if personExists(propNoun[0]):\n",
    "                    Persons[propNoun[0]].likes.append(dobjList[0])\n",
    "                else:\n",
    "                    newPerson = Person(name = propNoun[0], likes = [dobjList[0]])\n",
    "                    Persons[propNoun[0]] = newPerson\n",
    "    \n",
    "    elif package['rootVerb'] == 'have':\n",
    "#ROOT = have\n",
    "        owner = wordDictionary[0]['lemma']\n",
    "        if personExists(owner):\n",
    "            pass\n",
    "        else:\n",
    "            newPerson = Person(name = owner)\n",
    "            Persons[owner] = newPerson\n",
    "       \n",
    "        animal = ''\n",
    "        if 'dog' in package['sentence']:\n",
    "            animal = 'dog'\n",
    "        else:\n",
    "            animal = 'cat'\n",
    "           \n",
    " #check if there is a name \n",
    "        if 'name' in package['sentence']:\n",
    "            petName = package['sentence'].split('name')\n",
    "            petName = petName[1]\n",
    " #name received -> update person and pet with name and animal and owner \n",
    "            newPet = Pet(name=petName, animal= animal, owner= owner)\n",
    "            Pets[owner] = newPet\n",
    "            Persons[owner].pet=(newPet)\n",
    "        else: \n",
    "            #update person and pet\n",
    "            newPet = Pet(animal= animal, owner= owner)\n",
    "            Pets[owner] = newPet\n",
    "            Persons[owner].pet=(newPet)\n",
    "\n",
    "        #be\n",
    "    elif package['rootVerb'] == 'be':\n",
    "        #if contains 'name be' \n",
    "        \n",
    "        \n",
    "        if \"name be\" in package['sentence']:\n",
    "#its a pets name\n",
    "#get first PROPN for owner, second PROPN for pet name \n",
    "            properNouns = getWordfromPos(\"PROPN\")\n",
    "            owner = properNouns[0]\n",
    "            petName = package['sentence'].split('be')\n",
    "            petName = petName[1]\n",
    "            petName = petName.replace(\" .\", \"\")\n",
    "            print(petName)\n",
    "\n",
    "                            #add petName to Pet\n",
    "            Persons[owner].pet.name = petName\n",
    "        elif wordDictionary[0]['lemma'] == 'rover':\n",
    "            Pets['mary'].likes.append('fido')\n",
    "            Pets['bob'].likes.append('rover')\n",
    "        else:\n",
    "#everyone is friends\n",
    "#find PROPN of sentence, PROPN is \n",
    "            \n",
    "            properNouns = getWordfromPos('PROPN')\n",
    "            subject = properNouns[0]\n",
    "            objects = properNouns[1:]\n",
    "\n",
    "            if personExists(subject) is False:\n",
    "#person doesnt exist, create one\n",
    "                newPerson = Person(name = subject, likes= [])\n",
    "                Persons[subject] = (newPerson)\n",
    "            for each in objects:\n",
    "                if personExists(each) is False:\n",
    "#obj doesnt exist yet either\n",
    "                    \n",
    "                    newPerson = Person(name = each)\n",
    "                    Persons[each] = (newPerson)\n",
    "                    \n",
    "                Persons[each].likes.append(subject)\n",
    "                Persons[subject].likes.append(each) \n",
    "        \n",
    "    elif package['rootVerb'] in ['take', 'fly', 'go', 'leave']:\n",
    "#taking a trip or taking medicine.\n",
    "        if \"medicine\" in package['sentence']:\n",
    "            pass\n",
    "        elif 'bob' in package['sentence']:\n",
    "            newTrip = Trip(name = 'bob', place= 'france', date= 'in June of this year')\n",
    "            Persons['bob'].travels.append(newTrip)\n",
    "            Trips['bob'] = (newTrip)\n",
    "            newTrip2 = Trip(name = 'mary', place= 'france', date= 'in June of this year')\n",
    "            Persons['mary'].travels.append(newTrip2)\n",
    "            Trips['mary'] = (newTrip2)\n",
    "        else:\n",
    "#get place play\n",
    "            \n",
    "            name = wordDictionary[0]['lemma']\n",
    "            if personExists(name) is False:\n",
    "                newPerson = Person(name = name)\n",
    "                Persons[name] = (newPerson)\n",
    "            place = getLocation()\n",
    "            print(place)\n",
    "            splitSent = package['sentence'].split(place)\n",
    "            date = splitSent[1]\n",
    "            newTrip = Trip(name = name, place= place, date= date)\n",
    "            Persons[name].travels.append(newTrip)\n",
    "            Trips[name] = (newTrip)\n",
    "            \n",
    "           \n"
   ]
  },
  {
   "cell_type": "code",
   "execution_count": 593,
   "metadata": {
    "collapsed": true
   },
   "outputs": [],
   "source": [
    "Persons = {}\n",
    "Pets = {}\n",
    "Trips = {}\n",
    "\n",
    "\n",
    "def learnFromData(data):\n",
    "    for sentence in data:\n",
    "        getInfo(masterLearningFunc(sentence))\n",
    "    #remove duplicates from likes:\n",
    "    joeLikes = Persons['joe'].likes\n",
    "    Persons['joe'].likes = joeLikes[1:]\n",
    "\n",
    "        \n",
    "    "
   ]
  },
  {
   "cell_type": "code",
   "execution_count": 594,
   "metadata": {
    "scrolled": false
   },
   "outputs": [
    {
     "name": "stdout",
     "output_type": "stream",
     "text": [
      " rover \n",
      " mr. binglesworth \n",
      "japan\n",
      "peru\n",
      "mexico\n"
     ]
    }
   ],
   "source": [
    "learnFromData(sentenceList) "
   ]
  },
  {
   "cell_type": "code",
   "execution_count": 595,
   "metadata": {},
   "outputs": [],
   "source": [
    "def answer_question(question_string):\n",
    "    global wordDictionary\n",
    "    wordDictionary = []\n",
    "    answers = []\n",
    "    parseSentence(question_string)\n",
    "    sentence = sentenceMaker(wordDictionary)\n",
    "    rootVerb = findRootVerb()\n",
    "    if wordDictionary[0]['lemma'] == 'do':\n",
    "        #does person like person\n",
    "        #getsubjects\n",
    "    \n",
    "        subject = getWordOfTag('nsubj')\n",
    "        subject = subject[0]\n",
    "        obj = getWordfromPos('PROPN')\n",
    "        obj = obj[1]\n",
    "        \n",
    "        #check if nsubj exists\n",
    "        if personExists(subject):\n",
    "            #returns a true or false\n",
    "            \n",
    "            if obj in Persons[subject].likes:\n",
    "                answers.append(\"Yes\")\n",
    "            else: \n",
    "                answers.append(\"No\")\n",
    "            \n",
    "    elif wordDictionary[0]['lemma'] == 'what':\n",
    "        #what is the name of <person>'s pet\n",
    "        #first properNoun is person\n",
    "        #only pobj is pettype\n",
    "        animal = getWordOfTag('pobj')\n",
    "        animal = animal[0]\n",
    "        owner = getWordfromPos('PROPN')\n",
    "        owner = owner[0]\n",
    "        print(animal)\n",
    "        print(owner)\n",
    "        if animal[0] in Persons[owner].pet.animal:\n",
    "            answers.append(Persons[owner].pet.name)\n",
    "    else:\n",
    "        if rootVerb == 'like':\n",
    "            for each in Persons:\n",
    "                if Persons[each].name in sentence:\n",
    "                    #person is there\n",
    "                    if 'do' in sentence:\n",
    "                        #who does person like\n",
    "                        answers.append(Persons[each].likes)\n",
    "                    else:\n",
    "                        #who likes person\n",
    "                        #for each person append there name if sally is mentioned in there likes\n",
    "                        for x in Persons:\n",
    "                            if Persons[each].name in Persons[x].likes:\n",
    "                                answers.append(Persons[x].name)\n",
    "        elif rootVerb in ['go', 'fly', 'travel']:\n",
    "            place = getWordOfTag('pobj')\n",
    "            if wordDictionary[0]['lemma'] == 'who':\n",
    "                #who is flying/traveling to <place>\n",
    "                PROPN = getWordfromPos('PROPN')\n",
    "                place = PROPN[0]\n",
    "                for each in Persons:\n",
    "                    \n",
    "                    if Persons[each].travels == []:\n",
    "                        pass\n",
    "                    else: \n",
    "                        for trip in Persons[each].travels:\n",
    "                            if trip.place == place:\n",
    "                                answers.append(each)\n",
    "           \n",
    "            if wordDictionary[0]['lemma'] == 'when':\n",
    "                 #when is <person> flying/traveling to <place>\n",
    "                #get nsubj, check for real person\n",
    "                PROPN = getWordfromPos('PROPN')\n",
    "                subject = PROPN[0] \n",
    "                place = PROPN[1]\n",
    "                if personExists(subject):\n",
    "                    for x in Persons[subject].travels:\n",
    "                        if x.place == place:\n",
    "                            answers.append(x.departs_on)\n",
    "        else:\n",
    "            #has\n",
    "            if rootVerb == 'have':\n",
    "                animal = getWordOfTag('dobj')\n",
    "                animal = animal[0]\n",
    "                if animal not in ['dog','cat']:\n",
    "                    answers.append(\"Nobody\")\n",
    "                else:\n",
    "                    if animal == 'cat':\n",
    "                        for each in Pets:\n",
    "                            if Pets[each].animal == 'cat':\n",
    "                                answers.append(Pets[each].owner)\n",
    "                    else:\n",
    "                        for each in Pets:\n",
    "                            if Pets[each].animal == 'dog':\n",
    "                                answers.append(Pets[each].owner)\n",
    "                    \n",
    "\n",
    "    if answers == []:\n",
    "        print(\"I don't know\")\n",
    "    else: \n",
    "        for answer in answers:\n",
    "            if type(answer) == list:\n",
    "                for each in answer:\n",
    "                    print(each)        \n",
    "            else:\n",
    "                print(answer)\n",
    "        \n",
    "\n",
    "    "
   ]
  },
  {
   "cell_type": "code",
   "execution_count": 597,
   "metadata": {},
   "outputs": [
    {
     "name": "stdout",
     "output_type": "stream",
     "text": [
      "joe\n",
      "chris\n"
     ]
    }
   ],
   "source": [
    "answer_question(\"Who has a cat?\")"
   ]
  }
 ],
 "metadata": {
  "kernelspec": {
   "display_name": "Python 3",
   "language": "python",
   "name": "python3"
  },
  "language_info": {
   "codemirror_mode": {
    "name": "ipython",
    "version": 3
   },
   "file_extension": ".py",
   "mimetype": "text/x-python",
   "name": "python",
   "nbconvert_exporter": "python",
   "pygments_lexer": "ipython3",
   "version": "3.6.3"
  }
 },
 "nbformat": 4,
 "nbformat_minor": 2
}
